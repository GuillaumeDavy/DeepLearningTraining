{
 "cells": [
  {
   "cell_type": "markdown",
   "id": "bc9a3a82",
   "metadata": {},
   "source": [
    "# 4I-SI3 - Projet Deep Learning\n",
    "\n",
    "## Auteurs\n",
    "\n",
    "* JOUDIOUX Alexandre\n",
    "\n",
    "* DAVY Guillaume\n",
    "\n",
    "## Objectif\n",
    "\n",
    "- À partir des travaux du livre\n",
    "[\"Neural networks and deep learning\"](http://neuralnetworksanddeeplearning.com/),\n",
    "réaliser un modèle pouvant faire de la reconnaissance de chiffre écrit à la main\n",
    "en se basant sur [la base de données MNIST](https://en.wikipedia.org/wiki/MNIST_database).\n",
    "- Calcul de performance en reconnaissance pour :\n",
    "    - A=1/2 vs. T=1/2,\n",
    "    - A=2/3 vs. T=1/3, \n",
    "    - 3-fold validation croisée (A=2/3, T=1/3, nombre de “runs” selon temps de calcul)\n",
    "\n"
   ]
  },
  {
   "cell_type": "markdown",
   "id": "978237f1",
   "metadata": {},
   "source": [
    "## Imports"
   ]
  },
  {
   "cell_type": "code",
   "execution_count": 13,
   "id": "2b1cf7b4",
   "metadata": {},
   "outputs": [],
   "source": [
    "# Import des bases de code\n",
    "import cod.mnist_loader as mnist_loader\n",
    "import cod.network as net1\n",
    "import matplotlib.pyplot as plt\n",
    "import numpy as np"
   ]
  },
  {
   "cell_type": "markdown",
   "id": "2baeafc9",
   "metadata": {},
   "source": [
    "## Classification des données MNIST par réseau multicouche."
   ]
  },
  {
   "cell_type": "markdown",
   "id": "afef5845",
   "metadata": {},
   "source": [
    "Afin de pouvoir comparer les performances des différentes répartitions entre les bases d'apprentissage et de test.\n",
    "Nous prenons un perceptron avec 784 input, 30 hidden et 10 output, un mini_batch_size à 10 et un nombre d'epoch de 30."
   ]
  },
  {
   "cell_type": "markdown",
   "id": "c3d5c8c4",
   "metadata": {},
   "source": [
    "### Base d'apprentissage 1/2 vs base de test 1/2"
   ]
  },
  {
   "cell_type": "markdown",
   "id": "072611e0",
   "metadata": {},
   "source": [
    "Dans un premier temps, nous chargeons les données. Puis réduisons la liste de base d'entrainement à 10 000 images, afin d'obtenir une répartition de 1/2 A et 1/2 T."
   ]
  },
  {
   "cell_type": "code",
   "execution_count": 14,
   "id": "2fa3e38e",
   "metadata": {},
   "outputs": [],
   "source": [
    "training_data_1, validation_data, test_data = mnist_loader.load_data_wrapper(10000)"
   ]
  },
  {
   "cell_type": "code",
   "execution_count": 15,
   "id": "c34e6eee",
   "metadata": {},
   "outputs": [
    {
     "name": "stdout",
     "output_type": "stream",
     "text": [
      "Epoch 0 : 77.8 % sur 10000 images\n",
      "Epoch 1 : 87.02 % sur 10000 images\n",
      "Epoch 2 : 88.32 % sur 10000 images\n",
      "Epoch 3 : 89.56 % sur 10000 images\n",
      "Epoch 4 : 89.87 % sur 10000 images\n",
      "Epoch 5 : 90.24 % sur 10000 images\n",
      "Epoch 6 : 90.64999999999999 % sur 10000 images\n",
      "Epoch 7 : 91.02 % sur 10000 images\n",
      "Epoch 8 : 90.74 % sur 10000 images\n",
      "Epoch 9 : 91.11 % sur 10000 images\n",
      "Epoch 10 : 91.21000000000001 % sur 10000 images\n",
      "Epoch 11 : 91.19 % sur 10000 images\n",
      "Epoch 12 : 91.34 % sur 10000 images\n",
      "Epoch 13 : 91.18 % sur 10000 images\n",
      "Epoch 14 : 91.31 % sur 10000 images\n",
      "Epoch 15 : 91.19 % sur 10000 images\n",
      "Epoch 16 : 91.36 % sur 10000 images\n",
      "Epoch 17 : 91.45 % sur 10000 images\n",
      "Epoch 18 : 91.4 % sur 10000 images\n",
      "Epoch 19 : 91.47999999999999 % sur 10000 images\n",
      "Epoch 20 : 91.47999999999999 % sur 10000 images\n",
      "Epoch 21 : 91.56 % sur 10000 images\n",
      "Epoch 22 : 91.49000000000001 % sur 10000 images\n",
      "Epoch 23 : 91.45 % sur 10000 images\n",
      "Epoch 24 : 91.58 % sur 10000 images\n",
      "Epoch 25 : 91.59 % sur 10000 images\n",
      "Epoch 26 : 91.67999999999999 % sur 10000 images\n",
      "Epoch 27 : 91.63 % sur 10000 images\n",
      "Epoch 28 : 91.63 % sur 10000 images\n",
      "Epoch 29 : 91.72 % sur 10000 images\n"
     ]
    }
   ],
   "source": [
    "# Perceptron avec 784 input, 30 hidden et 10 output\n",
    "layers = [784, 30, 10]\n",
    "epochs = 30\n",
    "mini_batch_size = 10\n",
    "\n",
    "net = net1.Network(layers)\n",
    "results_mnist_1 = net.SGD(training_data_1, epochs, mini_batch_size, 3.0, test_data=test_data)\n",
    "\n",
    "np_results_mnist_1 = np.array(results_mnist_1)\n",
    "x = np.array(list(range(0, epochs)))"
   ]
  },
  {
   "cell_type": "markdown",
   "id": "93b8c90e",
   "metadata": {},
   "source": [
    "### Visualitation des résultats\n",
    "\n",
    "Nous visualisons les résultats grâce au graph suivant."
   ]
  },
  {
   "cell_type": "code",
   "execution_count": 20,
   "id": "860b1427",
   "metadata": {},
   "outputs": [
    {
     "data": {
      "image/png": "[encoded data removed]",
      "text/plain": [
       "<Figure size 864x576 with 1 Axes>"
      ]
     },
     "metadata": {
      "needs_background": "light"
     },
     "output_type": "display_data"
    }
   ],
   "source": [
    "# plotting\n",
    "\n",
    "plt.figure(1,figsize=(12,8))\n",
    "plt.plot(x, np_results_mnist_1)\n",
    "plt.legend((\"MNIST A=1/2 T=1/2\"),loc='upper left')\n",
    "plt.title('Original and Noisy ECG Signal')\n",
    "plt.xlabel('Accuracy (%)')\n",
    "plt.ylabel('Epoch')\n",
    "plt.show()"
   ]
  },
  {
   "cell_type": "markdown",
   "id": "b17900a5",
   "metadata": {},
   "source": [
    "### Base d'apprentissage 2/3 vs base de test 1/3"
   ]
  },
  {
   "cell_type": "code",
   "execution_count": 17,
   "id": "69766c2b",
   "metadata": {},
   "outputs": [],
   "source": [
    "training_data_2, validation_data, test_data = mnist_loader.load_data_wrapper(20000)"
   ]
  },
  {
   "cell_type": "code",
   "execution_count": 18,
   "id": "6a6be733",
   "metadata": {},
   "outputs": [
    {
     "name": "stdout",
     "output_type": "stream",
     "text": [
      "Epoch 0 : 87.12 % sur 10000 images\n",
      "Epoch 1 : 90.24 % sur 10000 images\n",
      "Epoch 2 : 90.84 % sur 10000 images\n",
      "Epoch 3 : 91.36 % sur 10000 images\n",
      "Epoch 4 : 91.78 % sur 10000 images\n",
      "Epoch 5 : 92.2 % sur 10000 images\n",
      "Epoch 6 : 92.06 % sur 10000 images\n",
      "Epoch 7 : 92.33 % sur 10000 images\n",
      "Epoch 8 : 92.32000000000001 % sur 10000 images\n",
      "Epoch 9 : 92.11 % sur 10000 images\n",
      "Epoch 10 : 92.78 % sur 10000 images\n",
      "Epoch 11 : 92.82000000000001 % sur 10000 images\n",
      "Epoch 12 : 93.15 % sur 10000 images\n",
      "Epoch 13 : 93.03 % sur 10000 images\n",
      "Epoch 14 : 93.47999999999999 % sur 10000 images\n",
      "Epoch 15 : 93.23 % sur 10000 images\n",
      "Epoch 16 : 93.4 % sur 10000 images\n",
      "Epoch 17 : 93.36 % sur 10000 images\n",
      "Epoch 18 : 93.11 % sur 10000 images\n",
      "Epoch 19 : 93.42 % sur 10000 images\n",
      "Epoch 20 : 93.49 % sur 10000 images\n",
      "Epoch 21 : 93.42 % sur 10000 images\n",
      "Epoch 22 : 93.63 % sur 10000 images\n",
      "Epoch 23 : 93.58 % sur 10000 images\n",
      "Epoch 24 : 93.54 % sur 10000 images\n",
      "Epoch 25 : 93.58 % sur 10000 images\n",
      "Epoch 26 : 93.35 % sur 10000 images\n",
      "Epoch 27 : 93.53 % sur 10000 images\n",
      "Epoch 28 : 93.67 % sur 10000 images\n",
      "Epoch 29 : 93.49 % sur 10000 images\n"
     ]
    }
   ],
   "source": [
    "# Perceptron avec 784 input, 30 hidden et 10 output\n",
    "layers = [784, 30, 10]\n",
    "epochs = 30\n",
    "mini_batch_size = 10\n",
    "\n",
    "net = net1.Network(layers)\n",
    "results_mnist_2 = net.SGD(training_data_2, epochs, mini_batch_size, 3.0, test_data=test_data)\n",
    "\n",
    "np_results_mnist_2 = np.array(results_mnist_2)\n",
    "x = np.array(list(range(0, epochs)))"
   ]
  },
  {
   "cell_type": "code",
   "execution_count": 22,
   "id": "c46a6fbe",
   "metadata": {},
   "outputs": [
    {
     "data": {
      "image/png": "[encoded data removed]",
      "text/plain": [
       "<Figure size 864x576 with 1 Axes>"
      ]
     },
     "metadata": {
      "needs_background": "light"
     },
     "output_type": "display_data"
    }
   ],
   "source": [
    "# plotting\n",
    "\n",
    "plt.figure(1,figsize=(12,8))\n",
    "plt.plot(x, np_results_mnist_1)\n",
    "plt.plot(x, np_results_mnist_2)\n",
    "plt.legend(('MNIST A=1/2 T=1/2', 'MNIST A=2/3 T=1/3'),loc='upper left')\n",
    "plt.title('Original and Noisy ECG Signal')\n",
    "plt.xlabel('Accuracy (%)')\n",
    "plt.ylabel('Epoch')\n",
    "plt.show()"
   ]
  },
  {
   "cell_type": "markdown",
   "id": "e6813c3b",
   "metadata": {},
   "source": [
    "### 3-fold validation croisée (A = 2/3 vs T = 1/3)"
   ]
  },
  {
   "cell_type": "code",
   "execution_count": null,
   "id": "7b03d8f9",
   "metadata": {},
   "outputs": [],
   "source": []
  }
 ],
 "metadata": {
  "kernelspec": {
   "display_name": "Python 3 (ipykernel)",
   "language": "python",
   "name": "python3"
  },
  "language_info": {
   "codemirror_mode": {
    "name": "ipython",
    "version": 3
   },
   "file_extension": ".py",
   "mimetype": "text/x-python",
   "name": "python",
   "nbconvert_exporter": "python",
   "pygments_lexer": "ipython3",
   "version": "3.9.12"
  }
 },
 "nbformat": 4,
 "nbformat_minor": 5
}
