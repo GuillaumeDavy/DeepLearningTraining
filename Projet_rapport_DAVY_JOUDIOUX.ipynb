{
 "cells": [
  {
   "cell_type": "markdown",
   "id": "bc9a3a82",
   "metadata": {},
   "source": [
    "# 4I-SI3 - Projet Deep Learning\n",
    "\n",
    "## Auteurs\n",
    "\n",
    "* JOUDIOUX Alexandre\n",
    "\n",
    "* DAVY Guillaume\n",
    "\n",
    "## Objectif\n",
    "\n",
    "- À partir des travaux du livre\n",
    "[\"Neural networks and deep learning\"](http://neuralnetworksanddeeplearning.com/),\n",
    "réaliser un modèle pouvant faire de la reconnaissance de chiffre écrit à la main\n",
    "en se basant sur [la base de données MNIST](https://en.wikipedia.org/wiki/MNIST_database).\n",
    "- Calcul de performance en reconnaissance pour :\n",
    "    - A=1/2 vs. T=1/2,\n",
    "    - A=2/3 vs. T=1/3, \n",
    "    - 3-fold validation croisée (A=2/3, T=1/3, nombre de “runs” selon temps de calcul)\n",
    "\n"
   ]
  },
  {
   "cell_type": "markdown",
   "id": "bab4de06",
   "metadata": {},
   "source": [
    "## Imports"
   ]
  },
  {
   "cell_type": "code",
   "execution_count": 18,
   "id": "6be5f568",
   "metadata": {},
   "outputs": [
    {
     "name": "stdout",
     "output_type": "stream",
     "text": [
      "Trying to run under a GPU.  If this is not desired, then modify network3.py\n",
      "to set the GPU flag to False.\n"
     ]
    }
   ],
   "source": [
    "# Import des bases de code\n",
    "import cod.mnist_loader as mnist_loader\n",
    "import cod.network as net1\n",
    "import cod.network3 as net3\n",
    "from cod.network3 import ReLU\n",
    "\n",
    "#Import external lib\n",
    "import matplotlib.pyplot as plt\n",
    "import numpy as np\n",
    "from sklearn.model_selection import KFold"
   ]
  },
  {
   "cell_type": "markdown",
   "id": "2baeafc9",
   "metadata": {},
   "source": [
    "## Classification des données MNIST par réseau multicouche."
   ]
  },
  {
   "cell_type": "markdown",
   "id": "afef5845",
   "metadata": {},
   "source": [
    "Afin de pouvoir comparer les performances des différentes répartitions entre les bases d'apprentissage et de test.\n",
    "Nous prenons un perceptron avec 784 input, 30 hidden et 10 output, un mini_batch_size à 10 et un nombre d'epoch de 30."
   ]
  },
  {
   "cell_type": "code",
   "execution_count": 2,
   "id": "58c3a10c",
   "metadata": {},
   "outputs": [],
   "source": [
    "# Perceptron avec 784 input, 30 hidden et 10 output\n",
    "layers = [784, 30, 10]\n",
    "epochs = 30\n",
    "mini_batch_size = 10\n",
    "\n",
    "# Axe x des plots.\n",
    "x = np.array(list(range(0, epochs)))"
   ]
  },
  {
   "cell_type": "markdown",
   "id": "9f06b913",
   "metadata": {},
   "source": [
    "### Base d'apprentissage 1/2 vs base de test 1/2"
   ]
  },
  {
   "cell_type": "markdown",
   "id": "d2218c24",
   "metadata": {},
   "source": [
    "Dans un premier temps, nous chargeons les données. Puis réduisons la liste de base d'entrainement à 10 000 images, afin d'obtenir une répartition de A=1/2 et T=1/2."
   ]
  },
  {
   "cell_type": "code",
   "execution_count": 3,
   "id": "2fa3e38e",
   "metadata": {},
   "outputs": [],
   "source": [
    "training_data_1, validation_data, test_data = mnist_loader.load_data_wrapper(10000)"
   ]
  },
  {
   "cell_type": "markdown",
   "id": "fd173213",
   "metadata": {},
   "source": [
    "Nous effectuons alors l'entrainement avec ces jeux de données."
   ]
  },
  {
   "cell_type": "code",
   "execution_count": 4,
   "id": "c560d6c9",
   "metadata": {},
   "outputs": [
    {
     "name": "stdout",
     "output_type": "stream",
     "text": [
      "Epoch 0 : 67.34 %\n",
      "Epoch 1 : 77.99000000000001 %\n",
      "Epoch 2 : 79.99000000000001 %\n",
      "Epoch 3 : 80.96 %\n",
      "Epoch 4 : 81.46 %\n",
      "Epoch 5 : 81.21000000000001 %\n",
      "Epoch 6 : 82.26 %\n",
      "Epoch 7 : 82.64 %\n",
      "Epoch 8 : 82.71 %\n",
      "Epoch 9 : 82.27 %\n",
      "Epoch 10 : 82.88 %\n",
      "Epoch 11 : 82.45 %\n",
      "Epoch 12 : 82.82000000000001 %\n",
      "Epoch 13 : 82.86 %\n",
      "Epoch 14 : 82.84 %\n",
      "Epoch 15 : 83.14 %\n",
      "Epoch 16 : 83.1 %\n",
      "Epoch 17 : 83.31 %\n",
      "Epoch 18 : 83.1 %\n",
      "Epoch 19 : 83.54 %\n",
      "Epoch 20 : 83.28 %\n",
      "Epoch 21 : 83.21 %\n",
      "Epoch 22 : 83.39999999999999 %\n",
      "Epoch 23 : 83.24000000000001 %\n",
      "Epoch 24 : 83.27 %\n",
      "Epoch 25 : 83.38 %\n",
      "Epoch 26 : 83.23 %\n",
      "Epoch 27 : 83.33 %\n",
      "Epoch 28 : 83.26 %\n",
      "Epoch 29 : 83.14 %\n"
     ]
    }
   ],
   "source": [
    "net = net1.Network(layers)\n",
    "results_mnist_1 = net.SGD(training_data_1, epochs, mini_batch_size, 3.0, test_data=test_data)"
   ]
  },
  {
   "cell_type": "markdown",
   "id": "955ed1a1",
   "metadata": {},
   "source": [
    "Nous convertissons alors les résultats en un array numpy pour qu'il puisse être affiché dans un plot."
   ]
  },
  {
   "cell_type": "code",
   "execution_count": 5,
   "id": "31b4bda9",
   "metadata": {},
   "outputs": [],
   "source": [
    "np_results_mnist_1 = np.array(results_mnist_1)"
   ]
  },
  {
   "cell_type": "markdown",
   "id": "e7f8930e",
   "metadata": {},
   "source": [
    "Et affichons les résultats sous la forme d'une courbe afin de visualiser son évolution."
   ]
  },
  {
   "cell_type": "code",
   "execution_count": 6,
   "id": "860b1427",
   "metadata": {},
   "outputs": [
    {
     "data": {
      "image/png": "[encoded data removed]",
      "text/plain": [
       "<Figure size 1080x360 with 1 Axes>"
      ]
     },
     "metadata": {
      "needs_background": "light"
     },
     "output_type": "display_data"
    }
   ],
   "source": [
    "# plotting\n",
    "plt.figure(1,figsize=(15,5))\n",
    "plt.plot(x, np_results_mnist_1)\n",
    "plt.legend(('MNIST A=1/2 T=1/2', 'MNIST A=2/3 T=1/3', 'MNIST Fold-3 A=2/3 T=1/3'),loc='upper left')\n",
    "plt.title('Visualisation de la performance au cours des epochs')\n",
    "plt.ylabel('Accuracy (%)')\n",
    "plt.xlabel('Epoch')\n",
    "plt.show()"
   ]
  },
  {
   "cell_type": "markdown",
   "id": "830254e0",
   "metadata": {},
   "source": [
    "Nous constatons alors que lors des 5 premières epochs, nous avons une progression fulgurante des résultats, puis que notre modèle tend vers 92% en progressant très lentement."
   ]
  },
  {
   "cell_type": "markdown",
   "id": "fc9bdadb",
   "metadata": {},
   "source": [
    "### Base d'apprentissage 2/3 vs base de test 1/3"
   ]
  },
  {
   "cell_type": "markdown",
   "id": "00f35971",
   "metadata": {},
   "source": [
    "Dans un second temps, nous chargeons les données. Puis réduisons la liste de base d'entrainement à 20 000 images, afin d'obtenir une répartition de A=2/3 et T=1/3."
   ]
  },
  {
   "cell_type": "code",
   "execution_count": 7,
   "id": "03abbf15",
   "metadata": {},
   "outputs": [],
   "source": [
    "training_data_2, validation_data, test_data = mnist_loader.load_data_wrapper(20000)"
   ]
  },
  {
   "cell_type": "markdown",
   "id": "386cdaa9",
   "metadata": {},
   "source": [
    "Nous effectuons alors l'entrainement avec ces jeux de données."
   ]
  },
  {
   "cell_type": "code",
   "execution_count": 8,
   "id": "85e71b48",
   "metadata": {},
   "outputs": [
    {
     "name": "stdout",
     "output_type": "stream",
     "text": [
      "Epoch 0 : 87.99 %\n",
      "Epoch 1 : 90.06 %\n",
      "Epoch 2 : 91.34 %\n",
      "Epoch 3 : 91.24 %\n",
      "Epoch 4 : 92.02 %\n",
      "Epoch 5 : 92.53 %\n",
      "Epoch 6 : 92.84 %\n",
      "Epoch 7 : 92.83 %\n",
      "Epoch 8 : 93.05 %\n",
      "Epoch 9 : 92.97999999999999 %\n",
      "Epoch 10 : 93.04 %\n",
      "Epoch 11 : 93.05 %\n",
      "Epoch 12 : 93.14 %\n",
      "Epoch 13 : 92.82000000000001 %\n",
      "Epoch 14 : 93.27 %\n",
      "Epoch 15 : 93.24 %\n",
      "Epoch 16 : 93.49 %\n",
      "Epoch 17 : 93.36 %\n",
      "Epoch 18 : 93.08999999999999 %\n",
      "Epoch 19 : 93.36 %\n",
      "Epoch 20 : 93.35 %\n",
      "Epoch 21 : 93.37 %\n",
      "Epoch 22 : 93.54 %\n",
      "Epoch 23 : 93.33 %\n",
      "Epoch 24 : 93.46 %\n",
      "Epoch 25 : 93.34 %\n",
      "Epoch 26 : 93.60000000000001 %\n",
      "Epoch 27 : 93.33 %\n",
      "Epoch 28 : 93.43 %\n",
      "Epoch 29 : 93.4 %\n"
     ]
    }
   ],
   "source": [
    "net = net1.Network(layers)\n",
    "results_mnist_2 = net.SGD(training_data_2, epochs, mini_batch_size, 3.0, test_data=test_data)"
   ]
  },
  {
   "cell_type": "markdown",
   "id": "154d44a3",
   "metadata": {},
   "source": [
    "Nous convertissons alors les résultats en un array numpy pour qu'il puisse être affiché dans un plot."
   ]
  },
  {
   "cell_type": "code",
   "execution_count": 9,
   "id": "5cda058d",
   "metadata": {},
   "outputs": [],
   "source": [
    "np_results_mnist_2 = np.array(results_mnist_2)"
   ]
  },
  {
   "cell_type": "markdown",
   "id": "207ecc45",
   "metadata": {},
   "source": [
    "Et affichons les résultats sous la forme d'une courbe afin de visualiser son évolution. Et la comparer avec celle précédente."
   ]
  },
  {
   "cell_type": "code",
   "execution_count": 10,
   "id": "f9557f9b",
   "metadata": {},
   "outputs": [
    {
     "data": {
      "image/png": "[encoded data removed]",
      "text/plain": [
       "<Figure size 1080x360 with 1 Axes>"
      ]
     },
     "metadata": {
      "needs_background": "light"
     },
     "output_type": "display_data"
    }
   ],
   "source": [
    "# plotting\n",
    "\n",
    "plt.figure(2,figsize=(15,5))\n",
    "plt.plot(x, np_results_mnist_1)\n",
    "plt.plot(x, np_results_mnist_2)\n",
    "plt.legend(('MNIST A=1/2 T=1/2', 'MNIST A=2/3 T=1/3', 'MNIST Fold-3 A=2/3 T=1/3'),loc='upper left')\n",
    "plt.title('Visualisation de la performance au cours des epochs')\n",
    "plt.ylabel('Accuracy (%)')\n",
    "plt.xlabel('Epoch')\n",
    "plt.show()"
   ]
  },
  {
   "cell_type": "markdown",
   "id": "3b366249",
   "metadata": {},
   "source": [
    "Comme pour les résultats précèdent, nous obtenons une grande progression lors des 5 premières epochs, puis le modèle tend vers 94%. Avec une répartition A=2/3 et T=1/3, nous obtenons de meilleurs résultats qu'avec une répartition A=1/2 et T=1/2. Ce n'est cependant pas une grande surprise, puisqu'en effet, le modèle ayant plus de données pour son apprentissage, elle améliore celui-ci."
   ]
  },
  {
   "cell_type": "markdown",
   "id": "b6d84ee7",
   "metadata": {},
   "source": [
    "### 3-fold validation croisée (A = 2/3 vs T = 1/3)"
   ]
  },
  {
   "cell_type": "markdown",
   "id": "920e25c9",
   "metadata": {},
   "source": [
    "La valisation croisée 3-fold (A = 2/3 vs T = 1/3), signifie que l'on divise un ensemble de donnée en trois parties de taille identique {B, C, D}, et que l'on en utilisera deux pour l'apprentissage et un pour le test.\n",
    "On effectue alors trois fois apprentissage :\n",
    "- La première fois avec : A = {B, C} et T = {D}\n",
    "- La deuxième fois avec : A = {C, D} et T = {B}\n",
    "- La troisième fois avec : A = {B, D} et T = {C}\n",
    "\n",
    "Nous réduisons alors le nombre d'epochs à 10 par itération afin de pouvoir comparer les résultats avec les résultats précèdents.\n",
    "Dans un premier temps, nous préparons les divisions les données en trois groupes {B, C, D}.\n",
    "Nous effetuons alors trois fois l'apprentissage avec les groupements de données différents puis ajoutons les résultats ensemble dans une même liste."
   ]
  },
  {
   "cell_type": "code",
   "execution_count": 11,
   "id": "572d9d65",
   "metadata": {},
   "outputs": [
    {
     "name": "stdout",
     "output_type": "stream",
     "text": [
      "Fold  0\n",
      "Epoch 0 : 86.6 %\n",
      "Epoch 1 : 89.19 %\n",
      "Epoch 2 : 89.91 %\n",
      "Epoch 3 : 90.64 %\n",
      "Epoch 4 : 90.74 %\n",
      "Epoch 5 : 91.36 %\n",
      "Epoch 6 : 91.42 %\n",
      "Epoch 7 : 91.75 %\n",
      "Epoch 8 : 91.97999999999999 %\n",
      "Epoch 9 : 92.42 %\n",
      "Fold  1\n",
      "Epoch 0 : 94.03 %\n",
      "Epoch 1 : 94.69999999999999 %\n",
      "Epoch 2 : 94.82000000000001 %\n",
      "Epoch 3 : 94.69 %\n",
      "Epoch 4 : 94.77 %\n",
      "Epoch 5 : 94.26 %\n",
      "Epoch 6 : 94.32000000000001 %\n",
      "Epoch 7 : 94.59 %\n",
      "Epoch 8 : 94.65 %\n",
      "Epoch 9 : 94.67 %\n",
      "Fold  2\n",
      "Epoch 0 : 96.5 %\n",
      "Epoch 1 : 96.09 %\n",
      "Epoch 2 : 95.75 %\n",
      "Epoch 3 : 96.07 %\n",
      "Epoch 4 : 95.6 %\n",
      "Epoch 5 : 95.86 %\n",
      "Epoch 6 : 95.88 %\n",
      "Epoch 7 : 95.59 %\n",
      "Epoch 8 : 95.67 %\n",
      "Epoch 9 : 95.81 %\n"
     ]
    }
   ],
   "source": [
    "results_3 = []\n",
    "net = net1.Network(layers)\n",
    "k=3\n",
    "epochs=10 #10x3 = 30\n",
    "\n",
    "# prepare data\n",
    "tr_d, va_d, te_d = mnist_loader.load_data()\n",
    "\n",
    "for i in range(0, k):\n",
    "    B = [np.reshape(x, (784, 1)) for x in tr_d[0]][0:10000]\n",
    "    B_expected_result = [mnist_loader.vectorized_result(y) for y in tr_d[1]][0:10000]\n",
    "    B_test_data = tr_d[1][0:10000]\n",
    "\n",
    "    C = [np.reshape(x, (784, 1)) for x in tr_d[0]][10000:20000]\n",
    "    C_expected_result = [mnist_loader.vectorized_result(y) for y in tr_d[1]][10000:20000]\n",
    "    C_test_data = tr_d[1][10000:20000]\n",
    "\n",
    "    D = [np.reshape(x, (784, 1)) for x in tr_d[0]][20000:30000]\n",
    "    D_expected_result = [mnist_loader.vectorized_result(y) for y in tr_d[1]][20000:30000]\n",
    "    D_test_data = tr_d[1][20000:30000]\n",
    "    if i == 0:\n",
    "        # A = {B, C} & T = {D}\n",
    "        B.extend(C)\n",
    "        B_expected_result.extend(C_expected_result)\n",
    "        training_data = zip(B, B_expected_result)\n",
    "        test_data = zip(D, D_test_data)\n",
    "    if i == 1:\n",
    "        # A = {C, D} & T = {B}\n",
    "        C.extend(D)\n",
    "        C_expected_result.extend(D_expected_result)\n",
    "        training_data = zip(C, C_expected_result)\n",
    "        test_data = zip(B, B_test_data)\n",
    "    if i == 2:\n",
    "        # A = {B, D} & T = {C}\n",
    "        B.extend(D)\n",
    "        B_expected_result.extend(D_expected_result)\n",
    "        training_data = zip(B, B_expected_result)\n",
    "        test_data = zip(C, C_test_data)\n",
    "        \n",
    "    print(\"Fold \", i)\n",
    "    results_mnist_3 = net.SGD(training_data, epochs, mini_batch_size, 3.0, test_data=test_data)\n",
    "    results_3.extend(results_mnist_3)"
   ]
  },
  {
   "cell_type": "markdown",
   "id": "078d50c1",
   "metadata": {},
   "source": [
    "Nous convertissons alors les résultats en un array numpy pour qu'il puisse être affiché dans un plot."
   ]
  },
  {
   "cell_type": "code",
   "execution_count": 12,
   "id": "c0c216d3",
   "metadata": {},
   "outputs": [],
   "source": [
    "np_results_mnist_3 = np.array(results_3)"
   ]
  },
  {
   "cell_type": "markdown",
   "id": "4cc72268",
   "metadata": {},
   "source": [
    "Et affichons les résultats sous la forme d'une courbe afin de visualiser son évolution. Et la comparer avec celle précédente."
   ]
  },
  {
   "cell_type": "code",
   "execution_count": 13,
   "id": "ddef689e",
   "metadata": {},
   "outputs": [
    {
     "data": {
      "image/png": "[encoded data removed]",
      "text/plain": [
       "<Figure size 1080x360 with 1 Axes>"
      ]
     },
     "metadata": {
      "needs_background": "light"
     },
     "output_type": "display_data"
    }
   ],
   "source": [
    "# plotting\n",
    "plt.figure(3,figsize=(15,5))\n",
    "plt.plot(x, np_results_mnist_1)\n",
    "plt.plot(x, np_results_mnist_2)\n",
    "plt.plot(x, np_results_mnist_3)\n",
    "plt.legend(('MNIST A=1/2 T=1/2', 'MNIST A=2/3 T=1/3', 'MNIST Fold-3 A=2/3 T=1/3'),loc='upper left')\n",
    "plt.title('Visualisation de la performance au cours des epochs')\n",
    "plt.ylabel('Accuracy (%)')\n",
    "plt.xlabel('Epoch')\n",
    "plt.show()"
   ]
  },
  {
   "cell_type": "markdown",
   "id": "952d4618",
   "metadata": {},
   "source": [
    "### Conclusion"
   ]
  },
  {
   "cell_type": "markdown",
   "id": "f8c20215",
   "metadata": {},
   "source": [
    "Nous visualisons dans le graphique précèdent que le nombre de données pour l'apprentissage affecte la performance du modèle puisque nous obtenons de meilleurs résultats avec la répartition A=2/3 T=1/3 que A=1/2 T=1/2.\n",
    "Nous visualisons également que lorsque l'on garde la répartition A=2/3 T=1/3, mais avec une valisation croisée 3-fold, nous obtenons encore un meilleur résultat puisque nous atteignons les 95% de succès. Nous visualisons également que lorsque l'on passe d'un k à un autre, nous avons un bon dans notre pourcentage de succès."
   ]
  },
  {
   "cell_type": "markdown",
   "id": "82b2030e",
   "metadata": {},
   "source": [
    "## Classification des données MNIST avec convulution."
   ]
  },
  {
   "cell_type": "markdown",
   "id": "d88b6d3d",
   "metadata": {},
   "source": [
    "Afin de pouvoir comparer les performances des différentes répartitions entre les bases d'apprentissage et de test. Nous prenons un perceptron avec 784 input, 30 hidden et 10 output, un mini_batch_size à 10 et un nombre d'epoch de 30."
   ]
  },
  {
   "cell_type": "code",
   "execution_count": 16,
   "id": "eb8b77be",
   "metadata": {},
   "outputs": [],
   "source": [
    "# Perceptron avec 784 input, 30 hidden et 10 output\n",
    "layers = [784, 30, 10]\n",
    "epochs = 30\n",
    "mini_batch_size = 10\n",
    "\n",
    "# Axe x des plots.\n",
    "x = np.array(list(range(0, epochs)))"
   ]
  },
  {
   "cell_type": "markdown",
   "id": "7577cc69",
   "metadata": {},
   "source": [
    "### Base d'apprentissage 1/2 vs base de test 1/2"
   ]
  },
  {
   "cell_type": "markdown",
   "id": "784106ed",
   "metadata": {},
   "source": [
    "Dans un premier temps, nous chargeons les données. Puis réduisons la liste de base d'entrainement à 10 000 images, afin d'obtenir une répartition de A=1/2 et T=1/2."
   ]
  },
  {
   "cell_type": "code",
   "execution_count": 17,
   "id": "e05dad57",
   "metadata": {},
   "outputs": [],
   "source": [
    "training_data_4, validation_data, test_data = mnist_loader.load_data_wrapper(10000)"
   ]
  },
  {
   "cell_type": "markdown",
   "id": "42930115",
   "metadata": {},
   "source": [
    "Nous effectuons alors l'entrainement avec ces jeux de données."
   ]
  },
  {
   "cell_type": "code",
   "execution_count": 23,
   "id": "d143a25e",
   "metadata": {},
   "outputs": [
    {
     "name": "stdout",
     "output_type": "stream",
     "text": [
      "Testing Theano library...\n",
      "[Elemwise{exp,no_inplace}(<TensorType(float32, vector)>)]\n",
      "Looping 1000 times took 0.995324 seconds\n",
      "Result is [1.2317803 1.6187934 1.5227807 ... 2.2077181 2.2996776 1.6232328]\n",
      "Used the cpu\n"
     ]
    }
   ],
   "source": [
    "def testTheano():\n",
    "    from theano import function, config, shared, sandbox\n",
    "    import theano.tensor as T\n",
    "    import numpy\n",
    "    import time\n",
    "    print(\"Testing Theano library...\")\n",
    "    vlen = 10 * 30 * 768  # 10 x #cores x # threads per core\n",
    "    iters = 1000\n",
    "\n",
    "    rng = numpy.random.RandomState(22)\n",
    "    x = shared(numpy.asarray(rng.rand(vlen), config.floatX))\n",
    "    f = function([], T.exp(x))\n",
    "    print(f.maker.fgraph.toposort())\n",
    "    t0 = time.time()\n",
    "    for i in range(iters):\n",
    "        r = f()\n",
    "    t1 = time.time()\n",
    "    print(\"Looping %d times took %f seconds\" % (iters, t1 - t0))\n",
    "    print(\"Result is %s\" % (r,))\n",
    "    if numpy.any([isinstance(x.op, T.Elemwise) for x in f.maker.fgraph.toposort()]):\n",
    "        print('Used the cpu')\n",
    "    else:\n",
    "        print('Used the gpu')\n",
    "        \n",
    "testTheano()"
   ]
  },
  {
   "cell_type": "code",
   "execution_count": 21,
   "id": "5def0b49",
   "metadata": {},
   "outputs": [
    {
     "name": "stderr",
     "output_type": "stream",
     "text": [
      "/usr/local/lib/python3.9/site-packages/theano/tensor/nnet/conv.py:98: UserWarning: theano.tensor.nnet.conv.conv2d is deprecated. Use theano.tensor.nnet.conv2d instead.\n",
      "  warnings.warn(\"theano.tensor.nnet.conv.conv2d is deprecated.\"\n"
     ]
    },
    {
     "ename": "ValueError",
     "evalue": "too many values to unpack (expected 2)",
     "output_type": "error",
     "traceback": [
      "\u001b[0;31m---------------------------------------------------------------------------\u001b[0m",
      "\u001b[0;31mValueError\u001b[0m                                Traceback (most recent call last)",
      "\u001b[0;32m/var/folders/pl/2hmf74lx13ldtpmbhspch7x80000gn/T/ipykernel_7610/1943728093.py\u001b[0m in \u001b[0;36m<module>\u001b[0;34m\u001b[0m\n\u001b[1;32m     10\u001b[0m     \u001b[0mnet3\u001b[0m\u001b[0;34m.\u001b[0m\u001b[0mFullyConnectedLayer\u001b[0m\u001b[0;34m(\u001b[0m\u001b[0mn_in\u001b[0m\u001b[0;34m=\u001b[0m\u001b[0;36m40\u001b[0m\u001b[0;34m*\u001b[0m\u001b[0;36m4\u001b[0m\u001b[0;34m*\u001b[0m\u001b[0;36m4\u001b[0m\u001b[0;34m,\u001b[0m \u001b[0mn_out\u001b[0m\u001b[0;34m=\u001b[0m\u001b[0;36m100\u001b[0m\u001b[0;34m,\u001b[0m \u001b[0mactivation_fn\u001b[0m\u001b[0;34m=\u001b[0m\u001b[0mReLU\u001b[0m\u001b[0;34m)\u001b[0m\u001b[0;34m,\u001b[0m\u001b[0;34m\u001b[0m\u001b[0;34m\u001b[0m\u001b[0m\n\u001b[1;32m     11\u001b[0m     net3.SoftmaxLayer(n_in=100, n_out=10)], mini_batch_size)\n\u001b[0;32m---> 12\u001b[0;31m \u001b[0mnet\u001b[0m\u001b[0;34m.\u001b[0m\u001b[0mSGD\u001b[0m\u001b[0;34m(\u001b[0m\u001b[0mtraining_data_4\u001b[0m\u001b[0;34m,\u001b[0m \u001b[0;36m60\u001b[0m\u001b[0;34m,\u001b[0m \u001b[0mmini_batch_size\u001b[0m\u001b[0;34m,\u001b[0m \u001b[0;36m0.03\u001b[0m\u001b[0;34m,\u001b[0m \u001b[0mvalidation_data\u001b[0m\u001b[0;34m,\u001b[0m \u001b[0mtest_data\u001b[0m\u001b[0;34m,\u001b[0m \u001b[0mlmbda\u001b[0m\u001b[0;34m=\u001b[0m\u001b[0;36m0.1\u001b[0m\u001b[0;34m)\u001b[0m\u001b[0;34m\u001b[0m\u001b[0;34m\u001b[0m\u001b[0m\n\u001b[0m",
      "\u001b[0;32m~/DEV/ESIEE/Deep_Learning/DeepLearningProject/cod/network3.py\u001b[0m in \u001b[0;36mSGD\u001b[0;34m(self, training_data, epochs, mini_batch_size, eta, validation_data, test_data, lmbda)\u001b[0m\n\u001b[1;32m    104\u001b[0m             validation_data, test_data, lmbda=0.0):\n\u001b[1;32m    105\u001b[0m         \u001b[0;34m\"\"\"Train the network using mini-batch stochastic gradient descent.\"\"\"\u001b[0m\u001b[0;34m\u001b[0m\u001b[0;34m\u001b[0m\u001b[0m\n\u001b[0;32m--> 106\u001b[0;31m         \u001b[0mtraining_x\u001b[0m\u001b[0;34m,\u001b[0m \u001b[0mtraining_y\u001b[0m \u001b[0;34m=\u001b[0m \u001b[0mtraining_data\u001b[0m\u001b[0;34m\u001b[0m\u001b[0;34m\u001b[0m\u001b[0m\n\u001b[0m\u001b[1;32m    107\u001b[0m         \u001b[0mvalidation_x\u001b[0m\u001b[0;34m,\u001b[0m \u001b[0mvalidation_y\u001b[0m \u001b[0;34m=\u001b[0m \u001b[0mvalidation_data\u001b[0m\u001b[0;34m\u001b[0m\u001b[0;34m\u001b[0m\u001b[0m\n\u001b[1;32m    108\u001b[0m         \u001b[0mtest_x\u001b[0m\u001b[0;34m,\u001b[0m \u001b[0mtest_y\u001b[0m \u001b[0;34m=\u001b[0m \u001b[0mtest_data\u001b[0m\u001b[0;34m\u001b[0m\u001b[0;34m\u001b[0m\u001b[0m\n",
      "\u001b[0;31mValueError\u001b[0m: too many values to unpack (expected 2)"
     ]
    }
   ],
   "source": [
    "net = Network([\n",
    "    FullyConnectedLayer(n_in=784, n_out=100),\n",
    "    SoftmaxLayer(n_in=100, n_out=10)], mini_batch_size)\n",
    "net.SGD(training_data, 60, mini_batch_size, 0.1, validation_data, test_data)"
   ]
  },
  {
   "cell_type": "markdown",
   "id": "29e2adc2",
   "metadata": {},
   "source": [
    "### Base d'apprentissage 2/3 vs base de test 1/3"
   ]
  },
  {
   "cell_type": "markdown",
   "id": "f3e62d93",
   "metadata": {},
   "source": [
    "### 3-fold validation croisée (A = 2/3 vs T = 1/3)"
   ]
  },
  {
   "cell_type": "code",
   "execution_count": null,
   "id": "2ecfcc45",
   "metadata": {},
   "outputs": [],
   "source": []
  }
 ],
 "metadata": {
  "kernelspec": {
   "display_name": "Python 3 (ipykernel)",
   "language": "python",
   "name": "python3"
  },
  "language_info": {
   "codemirror_mode": {
    "name": "ipython",
    "version": 3
   },
   "file_extension": ".py",
   "mimetype": "text/x-python",
   "name": "python",
   "nbconvert_exporter": "python",
   "pygments_lexer": "ipython3",
   "version": "3.9.12"
  }
 },
 "nbformat": 4,
 "nbformat_minor": 5
}
