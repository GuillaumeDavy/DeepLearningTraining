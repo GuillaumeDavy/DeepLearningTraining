{
 "cells": [
  {
   "cell_type": "markdown",
   "id": "bc9a3a82",
   "metadata": {},
   "source": [
    "# 4I-SI3 - Projet Deep Learning\n",
    "\n",
    "## Auteurs\n",
    "\n",
    "* JOUDIOUX Alexandre\n",
    "\n",
    "* DAVY Guillaume\n",
    "\n",
    "## Objectif\n",
    "\n",
    "- À partir des travaux du livre\n",
    "[\"Neural networks and deep learning\"](http://neuralnetworksanddeeplearning.com/),\n",
    "réaliser un modèle pouvant faire de la reconnaissance de chiffre écrit à la main\n",
    "en se basant sur [la base de données MNIST](https://en.wikipedia.org/wiki/MNIST_database).\n",
    "- Calcul de performance en reconnaissance pour :\n",
    "    - A=1/2 vs. T=1/2,\n",
    "    - A=2/3 vs. T=1/3, \n",
    "    - 3-fold validation croisée (A=2/3, T=1/3, nombre de “runs” selon temps de calcul)\n",
    "\n"
   ]
  },
  {
   "cell_type": "code",
   "execution_count": 4,
   "id": "0a7ed390",
   "metadata": {},
   "outputs": [
    {
     "ename": "ModuleNotFoundError",
     "evalue": "No module named 'code.mnist_loader'; 'code' is not a package",
     "output_type": "error",
     "traceback": [
      "\u001b[0;31m---------------------------------------------------------------------------\u001b[0m",
      "\u001b[0;31mModuleNotFoundError\u001b[0m                       Traceback (most recent call last)",
      "\u001b[0;32m/var/folders/pl/2hmf74lx13ldtpmbhspch7x80000gn/T/ipykernel_15339/4123801768.py\u001b[0m in \u001b[0;36m<module>\u001b[0;34m\u001b[0m\n\u001b[0;32m----> 1\u001b[0;31m \u001b[0;32mimport\u001b[0m \u001b[0mcode\u001b[0m\u001b[0;34m.\u001b[0m\u001b[0mmnist_loader\u001b[0m\u001b[0;34m\u001b[0m\u001b[0;34m\u001b[0m\u001b[0m\n\u001b[0m\u001b[1;32m      2\u001b[0m \u001b[0;32mimport\u001b[0m \u001b[0mcode\u001b[0m\u001b[0;34m.\u001b[0m\u001b[0mnetwork\u001b[0m\u001b[0;34m\u001b[0m\u001b[0;34m\u001b[0m\u001b[0m\n",
      "\u001b[0;31mModuleNotFoundError\u001b[0m: No module named 'code.mnist_loader'; 'code' is not a package"
     ]
    }
   ],
   "source": [
    "# Import des bases de code\n",
    "import code.mnist_loader as mnist_loader\n",
    "import code.network as net1"
   ]
  },
  {
   "cell_type": "code",
   "execution_count": null,
   "id": "2fa3e38e",
   "metadata": {},
   "outputs": [],
   "source": [
    "training_data, validation_data, test_data = mnist_loader.load_data_wrapper()\n",
    "\n",
    "net = network.Network([784, 30, 10])\n",
    "net.SGD(training_data, 30, 10, 3.0, test_data=test_data)"
   ]
  }
 ],
 "metadata": {
  "kernelspec": {
   "display_name": "Python 3 (ipykernel)",
   "language": "python",
   "name": "python3"
  },
  "language_info": {
   "codemirror_mode": {
    "name": "ipython",
    "version": 3
   },
   "file_extension": ".py",
   "mimetype": "text/x-python",
   "name": "python",
   "nbconvert_exporter": "python",
   "pygments_lexer": "ipython3",
   "version": "3.9.12"
  }
 },
 "nbformat": 4,
 "nbformat_minor": 5
}
